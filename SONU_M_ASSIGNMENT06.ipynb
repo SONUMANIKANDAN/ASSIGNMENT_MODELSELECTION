{
 "cells": [
  {
   "cell_type": "markdown",
   "id": "32af1e39",
   "metadata": {},
   "source": [
    "# ASSIGNMENT ON MODEL SELECTION"
   ]
  },
  {
   "cell_type": "code",
   "execution_count": 1,
   "id": "137526f7",
   "metadata": {},
   "outputs": [],
   "source": [
    "#Import the relevant Libaries\n",
    "import pandas as pd\n",
    "import numpy as np\n",
    "import matplotlib.pyplot as plt\n",
    "import seaborn as sns"
   ]
  },
  {
   "cell_type": "markdown",
   "id": "d4c0523a",
   "metadata": {},
   "source": [
    "## 1.Loading the Dataset "
   ]
  },
  {
   "cell_type": "code",
   "execution_count": 2,
   "id": "f3ce01a2",
   "metadata": {},
   "outputs": [],
   "source": [
    "data=pd.read_csv('titanic_dataset1.csv')"
   ]
  },
  {
   "cell_type": "code",
   "execution_count": 3,
   "id": "aba4a51f",
   "metadata": {},
   "outputs": [],
   "source": [
    "#Making ‘PassengerId’ as the index column\n",
    "data=data.set_index('PassengerId')"
   ]
  },
  {
   "cell_type": "markdown",
   "id": "29217221",
   "metadata": {},
   "source": [
    "### Checking the Basic details of Dataset"
   ]
  },
  {
   "cell_type": "code",
   "execution_count": 4,
   "id": "8fe18ae1",
   "metadata": {},
   "outputs": [
    {
     "data": {
      "text/html": [
       "<div>\n",
       "<style scoped>\n",
       "    .dataframe tbody tr th:only-of-type {\n",
       "        vertical-align: middle;\n",
       "    }\n",
       "\n",
       "    .dataframe tbody tr th {\n",
       "        vertical-align: top;\n",
       "    }\n",
       "\n",
       "    .dataframe thead th {\n",
       "        text-align: right;\n",
       "    }\n",
       "</style>\n",
       "<table border=\"1\" class=\"dataframe\">\n",
       "  <thead>\n",
       "    <tr style=\"text-align: right;\">\n",
       "      <th></th>\n",
       "      <th>Survived</th>\n",
       "      <th>Pclass</th>\n",
       "      <th>Name</th>\n",
       "      <th>Sex</th>\n",
       "      <th>Age</th>\n",
       "      <th>SibSp</th>\n",
       "      <th>Parch</th>\n",
       "      <th>Ticket</th>\n",
       "      <th>Fare</th>\n",
       "      <th>Cabin</th>\n",
       "      <th>Embarked</th>\n",
       "    </tr>\n",
       "    <tr>\n",
       "      <th>PassengerId</th>\n",
       "      <th></th>\n",
       "      <th></th>\n",
       "      <th></th>\n",
       "      <th></th>\n",
       "      <th></th>\n",
       "      <th></th>\n",
       "      <th></th>\n",
       "      <th></th>\n",
       "      <th></th>\n",
       "      <th></th>\n",
       "      <th></th>\n",
       "    </tr>\n",
       "  </thead>\n",
       "  <tbody>\n",
       "    <tr>\n",
       "      <th>1</th>\n",
       "      <td>0</td>\n",
       "      <td>3</td>\n",
       "      <td>Braund, Mr. Owen Harris</td>\n",
       "      <td>male</td>\n",
       "      <td>22.0</td>\n",
       "      <td>1</td>\n",
       "      <td>0</td>\n",
       "      <td>A/5 21171</td>\n",
       "      <td>7.2500</td>\n",
       "      <td>NaN</td>\n",
       "      <td>S</td>\n",
       "    </tr>\n",
       "    <tr>\n",
       "      <th>2</th>\n",
       "      <td>1</td>\n",
       "      <td>1</td>\n",
       "      <td>Cumings, Mrs. John Bradley (Florence Briggs Th...</td>\n",
       "      <td>female</td>\n",
       "      <td>38.0</td>\n",
       "      <td>1</td>\n",
       "      <td>0</td>\n",
       "      <td>PC 17599</td>\n",
       "      <td>71.2833</td>\n",
       "      <td>C85</td>\n",
       "      <td>C</td>\n",
       "    </tr>\n",
       "    <tr>\n",
       "      <th>3</th>\n",
       "      <td>1</td>\n",
       "      <td>3</td>\n",
       "      <td>Heikkinen, Miss. Laina</td>\n",
       "      <td>female</td>\n",
       "      <td>26.0</td>\n",
       "      <td>0</td>\n",
       "      <td>0</td>\n",
       "      <td>STON/O2. 3101282</td>\n",
       "      <td>7.9250</td>\n",
       "      <td>NaN</td>\n",
       "      <td>S</td>\n",
       "    </tr>\n",
       "    <tr>\n",
       "      <th>4</th>\n",
       "      <td>1</td>\n",
       "      <td>1</td>\n",
       "      <td>Futrelle, Mrs. Jacques Heath (Lily May Peel)</td>\n",
       "      <td>female</td>\n",
       "      <td>35.0</td>\n",
       "      <td>1</td>\n",
       "      <td>0</td>\n",
       "      <td>113803</td>\n",
       "      <td>53.1000</td>\n",
       "      <td>C123</td>\n",
       "      <td>S</td>\n",
       "    </tr>\n",
       "    <tr>\n",
       "      <th>5</th>\n",
       "      <td>0</td>\n",
       "      <td>3</td>\n",
       "      <td>Allen, Mr. William Henry</td>\n",
       "      <td>male</td>\n",
       "      <td>35.0</td>\n",
       "      <td>0</td>\n",
       "      <td>0</td>\n",
       "      <td>373450</td>\n",
       "      <td>8.0500</td>\n",
       "      <td>NaN</td>\n",
       "      <td>S</td>\n",
       "    </tr>\n",
       "  </tbody>\n",
       "</table>\n",
       "</div>"
      ],
      "text/plain": [
       "             Survived  Pclass  \\\n",
       "PassengerId                     \n",
       "1                   0       3   \n",
       "2                   1       1   \n",
       "3                   1       3   \n",
       "4                   1       1   \n",
       "5                   0       3   \n",
       "\n",
       "                                                          Name     Sex   Age  \\\n",
       "PassengerId                                                                    \n",
       "1                                      Braund, Mr. Owen Harris    male  22.0   \n",
       "2            Cumings, Mrs. John Bradley (Florence Briggs Th...  female  38.0   \n",
       "3                                       Heikkinen, Miss. Laina  female  26.0   \n",
       "4                 Futrelle, Mrs. Jacques Heath (Lily May Peel)  female  35.0   \n",
       "5                                     Allen, Mr. William Henry    male  35.0   \n",
       "\n",
       "             SibSp  Parch            Ticket     Fare Cabin Embarked  \n",
       "PassengerId                                                          \n",
       "1                1      0         A/5 21171   7.2500   NaN        S  \n",
       "2                1      0          PC 17599  71.2833   C85        C  \n",
       "3                0      0  STON/O2. 3101282   7.9250   NaN        S  \n",
       "4                1      0            113803  53.1000  C123        S  \n",
       "5                0      0            373450   8.0500   NaN        S  "
      ]
     },
     "execution_count": 4,
     "metadata": {},
     "output_type": "execute_result"
    }
   ],
   "source": [
    "data.head()"
   ]
  },
  {
   "cell_type": "code",
   "execution_count": 5,
   "id": "17f14d66",
   "metadata": {},
   "outputs": [
    {
     "data": {
      "text/plain": [
       "(891, 11)"
      ]
     },
     "execution_count": 5,
     "metadata": {},
     "output_type": "execute_result"
    }
   ],
   "source": [
    "data.shape"
   ]
  },
  {
   "cell_type": "code",
   "execution_count": 6,
   "id": "2086109d",
   "metadata": {},
   "outputs": [
    {
     "name": "stdout",
     "output_type": "stream",
     "text": [
      "<class 'pandas.core.frame.DataFrame'>\n",
      "Int64Index: 891 entries, 1 to 891\n",
      "Data columns (total 11 columns):\n",
      " #   Column    Non-Null Count  Dtype  \n",
      "---  ------    --------------  -----  \n",
      " 0   Survived  891 non-null    int64  \n",
      " 1   Pclass    891 non-null    int64  \n",
      " 2   Name      891 non-null    object \n",
      " 3   Sex       891 non-null    object \n",
      " 4   Age       714 non-null    float64\n",
      " 5   SibSp     891 non-null    int64  \n",
      " 6   Parch     891 non-null    int64  \n",
      " 7   Ticket    891 non-null    object \n",
      " 8   Fare      891 non-null    float64\n",
      " 9   Cabin     204 non-null    object \n",
      " 10  Embarked  889 non-null    object \n",
      "dtypes: float64(2), int64(4), object(5)\n",
      "memory usage: 83.5+ KB\n"
     ]
    }
   ],
   "source": [
    "data.info()"
   ]
  },
  {
   "cell_type": "code",
   "execution_count": 7,
   "id": "2bc282d8",
   "metadata": {},
   "outputs": [
    {
     "data": {
      "text/plain": [
       "Index(['Survived', 'Pclass', 'Name', 'Sex', 'Age', 'SibSp', 'Parch', 'Ticket',\n",
       "       'Fare', 'Cabin', 'Embarked'],\n",
       "      dtype='object')"
      ]
     },
     "execution_count": 7,
     "metadata": {},
     "output_type": "execute_result"
    }
   ],
   "source": [
    "data.columns"
   ]
  },
  {
   "cell_type": "code",
   "execution_count": 8,
   "id": "e78b4103",
   "metadata": {},
   "outputs": [
    {
     "data": {
      "text/html": [
       "<div>\n",
       "<style scoped>\n",
       "    .dataframe tbody tr th:only-of-type {\n",
       "        vertical-align: middle;\n",
       "    }\n",
       "\n",
       "    .dataframe tbody tr th {\n",
       "        vertical-align: top;\n",
       "    }\n",
       "\n",
       "    .dataframe thead th {\n",
       "        text-align: right;\n",
       "    }\n",
       "</style>\n",
       "<table border=\"1\" class=\"dataframe\">\n",
       "  <thead>\n",
       "    <tr style=\"text-align: right;\">\n",
       "      <th></th>\n",
       "      <th>Survived</th>\n",
       "      <th>Pclass</th>\n",
       "      <th>Age</th>\n",
       "      <th>SibSp</th>\n",
       "      <th>Parch</th>\n",
       "      <th>Fare</th>\n",
       "    </tr>\n",
       "  </thead>\n",
       "  <tbody>\n",
       "    <tr>\n",
       "      <th>count</th>\n",
       "      <td>891.000000</td>\n",
       "      <td>891.000000</td>\n",
       "      <td>714.000000</td>\n",
       "      <td>891.000000</td>\n",
       "      <td>891.000000</td>\n",
       "      <td>891.000000</td>\n",
       "    </tr>\n",
       "    <tr>\n",
       "      <th>mean</th>\n",
       "      <td>0.383838</td>\n",
       "      <td>2.308642</td>\n",
       "      <td>29.699118</td>\n",
       "      <td>0.523008</td>\n",
       "      <td>0.381594</td>\n",
       "      <td>32.204208</td>\n",
       "    </tr>\n",
       "    <tr>\n",
       "      <th>std</th>\n",
       "      <td>0.486592</td>\n",
       "      <td>0.836071</td>\n",
       "      <td>14.526497</td>\n",
       "      <td>1.102743</td>\n",
       "      <td>0.806057</td>\n",
       "      <td>49.693429</td>\n",
       "    </tr>\n",
       "    <tr>\n",
       "      <th>min</th>\n",
       "      <td>0.000000</td>\n",
       "      <td>1.000000</td>\n",
       "      <td>0.420000</td>\n",
       "      <td>0.000000</td>\n",
       "      <td>0.000000</td>\n",
       "      <td>0.000000</td>\n",
       "    </tr>\n",
       "    <tr>\n",
       "      <th>25%</th>\n",
       "      <td>0.000000</td>\n",
       "      <td>2.000000</td>\n",
       "      <td>20.125000</td>\n",
       "      <td>0.000000</td>\n",
       "      <td>0.000000</td>\n",
       "      <td>7.910400</td>\n",
       "    </tr>\n",
       "    <tr>\n",
       "      <th>50%</th>\n",
       "      <td>0.000000</td>\n",
       "      <td>3.000000</td>\n",
       "      <td>28.000000</td>\n",
       "      <td>0.000000</td>\n",
       "      <td>0.000000</td>\n",
       "      <td>14.454200</td>\n",
       "    </tr>\n",
       "    <tr>\n",
       "      <th>75%</th>\n",
       "      <td>1.000000</td>\n",
       "      <td>3.000000</td>\n",
       "      <td>38.000000</td>\n",
       "      <td>1.000000</td>\n",
       "      <td>0.000000</td>\n",
       "      <td>31.000000</td>\n",
       "    </tr>\n",
       "    <tr>\n",
       "      <th>max</th>\n",
       "      <td>1.000000</td>\n",
       "      <td>3.000000</td>\n",
       "      <td>80.000000</td>\n",
       "      <td>8.000000</td>\n",
       "      <td>6.000000</td>\n",
       "      <td>512.329200</td>\n",
       "    </tr>\n",
       "  </tbody>\n",
       "</table>\n",
       "</div>"
      ],
      "text/plain": [
       "         Survived      Pclass         Age       SibSp       Parch        Fare\n",
       "count  891.000000  891.000000  714.000000  891.000000  891.000000  891.000000\n",
       "mean     0.383838    2.308642   29.699118    0.523008    0.381594   32.204208\n",
       "std      0.486592    0.836071   14.526497    1.102743    0.806057   49.693429\n",
       "min      0.000000    1.000000    0.420000    0.000000    0.000000    0.000000\n",
       "25%      0.000000    2.000000   20.125000    0.000000    0.000000    7.910400\n",
       "50%      0.000000    3.000000   28.000000    0.000000    0.000000   14.454200\n",
       "75%      1.000000    3.000000   38.000000    1.000000    0.000000   31.000000\n",
       "max      1.000000    3.000000   80.000000    8.000000    6.000000  512.329200"
      ]
     },
     "execution_count": 8,
     "metadata": {},
     "output_type": "execute_result"
    }
   ],
   "source": [
    "data.describe()"
   ]
  },
  {
   "cell_type": "code",
   "execution_count": 9,
   "id": "18483fd7",
   "metadata": {},
   "outputs": [
    {
     "data": {
      "text/plain": [
       "Survived      int64\n",
       "Pclass        int64\n",
       "Name         object\n",
       "Sex          object\n",
       "Age         float64\n",
       "SibSp         int64\n",
       "Parch         int64\n",
       "Ticket       object\n",
       "Fare        float64\n",
       "Cabin        object\n",
       "Embarked     object\n",
       "dtype: object"
      ]
     },
     "execution_count": 9,
     "metadata": {},
     "output_type": "execute_result"
    }
   ],
   "source": [
    "data.dtypes"
   ]
  },
  {
   "cell_type": "code",
   "execution_count": 10,
   "id": "704a42c8",
   "metadata": {},
   "outputs": [
    {
     "data": {
      "text/html": [
       "<div>\n",
       "<style scoped>\n",
       "    .dataframe tbody tr th:only-of-type {\n",
       "        vertical-align: middle;\n",
       "    }\n",
       "\n",
       "    .dataframe tbody tr th {\n",
       "        vertical-align: top;\n",
       "    }\n",
       "\n",
       "    .dataframe thead th {\n",
       "        text-align: right;\n",
       "    }\n",
       "</style>\n",
       "<table border=\"1\" class=\"dataframe\">\n",
       "  <thead>\n",
       "    <tr style=\"text-align: right;\">\n",
       "      <th></th>\n",
       "      <th>Unique Values</th>\n",
       "    </tr>\n",
       "  </thead>\n",
       "  <tbody>\n",
       "    <tr>\n",
       "      <th>Survived</th>\n",
       "      <td>2</td>\n",
       "    </tr>\n",
       "    <tr>\n",
       "      <th>Pclass</th>\n",
       "      <td>3</td>\n",
       "    </tr>\n",
       "    <tr>\n",
       "      <th>Name</th>\n",
       "      <td>891</td>\n",
       "    </tr>\n",
       "    <tr>\n",
       "      <th>Sex</th>\n",
       "      <td>2</td>\n",
       "    </tr>\n",
       "    <tr>\n",
       "      <th>Age</th>\n",
       "      <td>88</td>\n",
       "    </tr>\n",
       "    <tr>\n",
       "      <th>SibSp</th>\n",
       "      <td>7</td>\n",
       "    </tr>\n",
       "    <tr>\n",
       "      <th>Parch</th>\n",
       "      <td>7</td>\n",
       "    </tr>\n",
       "    <tr>\n",
       "      <th>Ticket</th>\n",
       "      <td>681</td>\n",
       "    </tr>\n",
       "    <tr>\n",
       "      <th>Fare</th>\n",
       "      <td>248</td>\n",
       "    </tr>\n",
       "    <tr>\n",
       "      <th>Cabin</th>\n",
       "      <td>147</td>\n",
       "    </tr>\n",
       "    <tr>\n",
       "      <th>Embarked</th>\n",
       "      <td>3</td>\n",
       "    </tr>\n",
       "  </tbody>\n",
       "</table>\n",
       "</div>"
      ],
      "text/plain": [
       "          Unique Values\n",
       "Survived              2\n",
       "Pclass                3\n",
       "Name                891\n",
       "Sex                   2\n",
       "Age                  88\n",
       "SibSp                 7\n",
       "Parch                 7\n",
       "Ticket              681\n",
       "Fare                248\n",
       "Cabin               147\n",
       "Embarked              3"
      ]
     },
     "execution_count": 10,
     "metadata": {},
     "output_type": "execute_result"
    }
   ],
   "source": [
    "#Checkiing Number of Unique values in the dataset\n",
    "duni= pd.DataFrame(data.nunique(),columns=['Unique Values'])\n",
    "duni"
   ]
  },
  {
   "cell_type": "markdown",
   "id": "11271c7e",
   "metadata": {},
   "source": [
    "## Exploratory Data Analysis"
   ]
  },
  {
   "cell_type": "code",
   "execution_count": 11,
   "id": "05ca092e",
   "metadata": {},
   "outputs": [
    {
     "name": "stdout",
     "output_type": "stream",
     "text": [
      "Percentage of Survival and Deceased is [38.38383838383838, 61.61616161616161]\n"
     ]
    }
   ],
   "source": [
    "#Calcualting the Surivival rates in the dataset and plotting it\n",
    "survived = data[data['Survived'] == 1]\n",
    "deceased = data[data['Survived'] == 0]\n",
    "su=[len(survived)/len(data)*100.0,len(deceased)/len(data)*100.0]\n",
    "print('Percentage of Survival and Deceased is',su)"
   ]
  },
  {
   "cell_type": "code",
   "execution_count": 12,
   "id": "3da0417d",
   "metadata": {},
   "outputs": [
    {
     "data": {
      "image/png": "[encoded data removed]",
      "text/plain": [
       "<Figure size 648x504 with 1 Axes>"
      ]
     },
     "metadata": {},
     "output_type": "display_data"
    }
   ],
   "source": [
    "uni=['Survived','Deceased']\n",
    "fig=plt.figure(figsize=(9,7))\n",
    "plt.title('Surivival Rates in Titanic',size=20,color='blue')\n",
    "plt.pie(su,labels=uni,autopct='%.1f%%',explode=[0.01]*2)\n",
    "plt.show()"
   ]
  },
  {
   "cell_type": "code",
   "execution_count": 13,
   "id": "45ebb1ac",
   "metadata": {},
   "outputs": [
    {
     "data": {
      "image/png": "[encoded data removed]",
      "text/plain": [
       "<Figure size 432x288 with 1 Axes>"
      ]
     },
     "metadata": {
      "needs_background": "light"
     },
     "output_type": "display_data"
    }
   ],
   "source": [
    "sns.barplot(x='Pclass', y='Survived', data=data)\n",
    "plt.title('Rate of Survival for each passenger Class')\n",
    "plt.show()"
   ]
  },
  {
   "cell_type": "code",
   "execution_count": 14,
   "id": "f1d7421e",
   "metadata": {},
   "outputs": [
    {
     "data": {
      "image/png": "[encoded data removed]",
      "text/plain": [
       "<Figure size 432x288 with 1 Axes>"
      ]
     },
     "metadata": {
      "needs_background": "light"
     },
     "output_type": "display_data"
    }
   ],
   "source": [
    "sns.barplot(x='Sex', y='Survived', data=data, palette='Set2')\n",
    "plt.title('Gender Wise Survival')\n",
    "plt.show()"
   ]
  },
  {
   "cell_type": "code",
   "execution_count": 15,
   "id": "63af470d",
   "metadata": {},
   "outputs": [
    {
     "data": {
      "image/png": "[encoded data removed]",
      "text/plain": [
       "<Figure size 432x288 with 1 Axes>"
      ]
     },
     "metadata": {
      "needs_background": "light"
     },
     "output_type": "display_data"
    }
   ],
   "source": [
    "g=sns.barplot(x='Embarked', y='Survived',hue='Sex', data=data, palette='Set1')\n",
    "labels = ['Southampton','Cherbourg','Queenstown']\n",
    "g.set_xticklabels(labels)\n",
    "plt.title('Embarked Vs Survival')\n",
    "plt.show()"
   ]
  },
  {
   "cell_type": "markdown",
   "id": "49087e50",
   "metadata": {},
   "source": [
    "***"
   ]
  },
  {
   "cell_type": "markdown",
   "id": "30c30d6c",
   "metadata": {},
   "source": [
    "# 2.Pre-processing the Dataset"
   ]
  },
  {
   "cell_type": "code",
   "execution_count": 16,
   "id": "b4520e3d",
   "metadata": {},
   "outputs": [
    {
     "data": {
      "text/plain": [
       "0"
      ]
     },
     "execution_count": 16,
     "metadata": {},
     "output_type": "execute_result"
    }
   ],
   "source": [
    "#Checking for duplicates in the dataset\n",
    "data.duplicated().sum()"
   ]
  },
  {
   "cell_type": "markdown",
   "id": "718ba04b",
   "metadata": {},
   "source": [
    "#### There are no duplicates in the dataset"
   ]
  },
  {
   "cell_type": "code",
   "execution_count": 17,
   "id": "109bbe01",
   "metadata": {},
   "outputs": [
    {
     "data": {
      "text/plain": [
       "Survived      0\n",
       "Pclass        0\n",
       "Name          0\n",
       "Sex           0\n",
       "Age         177\n",
       "SibSp         0\n",
       "Parch         0\n",
       "Ticket        0\n",
       "Fare          0\n",
       "Cabin       687\n",
       "Embarked      2\n",
       "dtype: int64"
      ]
     },
     "execution_count": 17,
     "metadata": {},
     "output_type": "execute_result"
    }
   ],
   "source": [
    "#Checking for Null values in the dataset\n",
    "data.isnull().sum()"
   ]
  },
  {
   "cell_type": "code",
   "execution_count": 18,
   "id": "5bb3790b",
   "metadata": {},
   "outputs": [
    {
     "data": {
      "text/plain": [
       "Survived     0.000000\n",
       "Pclass       0.000000\n",
       "Name         0.000000\n",
       "Sex          0.000000\n",
       "Age         19.865320\n",
       "SibSp        0.000000\n",
       "Parch        0.000000\n",
       "Ticket       0.000000\n",
       "Fare         0.000000\n",
       "Cabin       77.104377\n",
       "Embarked     0.224467\n",
       "dtype: float64"
      ]
     },
     "execution_count": 18,
     "metadata": {},
     "output_type": "execute_result"
    }
   ],
   "source": [
    "#Finding Percentage of Null values\n",
    "data.isna().sum()/data.shape[0]*100"
   ]
  },
  {
   "cell_type": "markdown",
   "id": "c9128b08",
   "metadata": {},
   "source": [
    "#### There are null values in Age,cabin and Embarked Columns"
   ]
  },
  {
   "cell_type": "markdown",
   "id": "df1f7862",
   "metadata": {},
   "source": [
    "### Filling the missing values present in all the columns in the dataset"
   ]
  },
  {
   "cell_type": "code",
   "execution_count": 19,
   "id": "39f61369",
   "metadata": {},
   "outputs": [
    {
     "data": {
      "image/png": "[encoded data removed]",
      "text/plain": [
       "<Figure size 432x288 with 1 Axes>"
      ]
     },
     "metadata": {
      "needs_background": "light"
     },
     "output_type": "display_data"
    }
   ],
   "source": [
    "plt.hist(data['Age'])\n",
    "plt.xlabel('Distribution of Age',size=14)\n",
    "plt.show()"
   ]
  },
  {
   "cell_type": "markdown",
   "id": "b0fafffb",
   "metadata": {},
   "source": [
    "### 'Age' column is Right skewed So we use Median to fill the null values"
   ]
  },
  {
   "cell_type": "code",
   "execution_count": 20,
   "id": "6c81070e",
   "metadata": {},
   "outputs": [
    {
     "data": {
      "text/plain": [
       "Survived      0\n",
       "Pclass        0\n",
       "Name          0\n",
       "Sex           0\n",
       "Age           0\n",
       "SibSp         0\n",
       "Parch         0\n",
       "Ticket        0\n",
       "Fare          0\n",
       "Cabin       687\n",
       "Embarked      2\n",
       "dtype: int64"
      ]
     },
     "execution_count": 20,
     "metadata": {},
     "output_type": "execute_result"
    }
   ],
   "source": [
    "data[\"Age\"]=data[\"Age\"].fillna(data['Age'].median())\n",
    "data.isna().sum()"
   ]
  },
  {
   "cell_type": "markdown",
   "id": "00c5dc3d",
   "metadata": {},
   "source": [
    "### 'Embarked' column is categorical one so we mode is used to fill in the values"
   ]
  },
  {
   "cell_type": "code",
   "execution_count": 21,
   "id": "254776c9",
   "metadata": {},
   "outputs": [
    {
     "data": {
      "text/plain": [
       "Survived      0\n",
       "Pclass        0\n",
       "Name          0\n",
       "Sex           0\n",
       "Age           0\n",
       "SibSp         0\n",
       "Parch         0\n",
       "Ticket        0\n",
       "Fare          0\n",
       "Cabin       687\n",
       "Embarked      0\n",
       "dtype: int64"
      ]
     },
     "execution_count": 21,
     "metadata": {},
     "output_type": "execute_result"
    }
   ],
   "source": [
    "data['Embarked']=data[\"Embarked\"].fillna(data['Embarked'].mode()[0])\n",
    "data.isnull().sum()"
   ]
  },
  {
   "cell_type": "markdown",
   "id": "f975fa7b",
   "metadata": {},
   "source": [
    "### 'Cabin' Column contains 687 null values (77% of data) so that column is dropped"
   ]
  },
  {
   "cell_type": "code",
   "execution_count": 22,
   "id": "ef65038b",
   "metadata": {},
   "outputs": [
    {
     "data": {
      "text/plain": [
       "Survived    0\n",
       "Pclass      0\n",
       "Name        0\n",
       "Sex         0\n",
       "Age         0\n",
       "SibSp       0\n",
       "Parch       0\n",
       "Ticket      0\n",
       "Fare        0\n",
       "Embarked    0\n",
       "dtype: int64"
      ]
     },
     "execution_count": 22,
     "metadata": {},
     "output_type": "execute_result"
    }
   ],
   "source": [
    "data=data.drop('Cabin',axis=1)\n",
    "data.isnull().sum()"
   ]
  },
  {
   "cell_type": "markdown",
   "id": "26c57939",
   "metadata": {},
   "source": [
    "### Now all null values are handled"
   ]
  },
  {
   "cell_type": "code",
   "execution_count": 23,
   "id": "c7f5401e",
   "metadata": {},
   "outputs": [
    {
     "data": {
      "text/plain": [
       "891"
      ]
     },
     "execution_count": 23,
     "metadata": {},
     "output_type": "execute_result"
    }
   ],
   "source": [
    "data['Name'].nunique()"
   ]
  },
  {
   "cell_type": "code",
   "execution_count": 24,
   "id": "15ada976",
   "metadata": {},
   "outputs": [
    {
     "data": {
      "text/plain": [
       "681"
      ]
     },
     "execution_count": 24,
     "metadata": {},
     "output_type": "execute_result"
    }
   ],
   "source": [
    "data['Ticket'].nunique()"
   ]
  },
  {
   "cell_type": "markdown",
   "id": "91f9a85f",
   "metadata": {},
   "source": [
    "### 'Name' column contains 891 and 'Ticket' column contains 681 unique values,it will not contribute much to model so the 2  columns are dropped"
   ]
  },
  {
   "cell_type": "code",
   "execution_count": 25,
   "id": "9c741764",
   "metadata": {},
   "outputs": [],
   "source": [
    "data=data.drop(['Name','Ticket'],axis=1)"
   ]
  },
  {
   "cell_type": "code",
   "execution_count": 26,
   "id": "a7b18914",
   "metadata": {},
   "outputs": [
    {
     "data": {
      "text/plain": [
       "Index(['Survived', 'Pclass', 'Sex', 'Age', 'SibSp', 'Parch', 'Fare',\n",
       "       'Embarked'],\n",
       "      dtype='object')"
      ]
     },
     "execution_count": 26,
     "metadata": {},
     "output_type": "execute_result"
    }
   ],
   "source": [
    "data.columns"
   ]
  },
  {
   "cell_type": "markdown",
   "id": "c00f7d8c",
   "metadata": {},
   "source": [
    "### Checking for outliers  in the dataset"
   ]
  },
  {
   "cell_type": "code",
   "execution_count": 27,
   "id": "407065f1",
   "metadata": {},
   "outputs": [
    {
     "data": {
      "image/png": "[encoded data removed]",
      "text/plain": [
       "<Figure size 648x360 with 1 Axes>"
      ]
     },
     "metadata": {
      "needs_background": "light"
     },
     "output_type": "display_data"
    }
   ],
   "source": [
    "plt.figure(figsize=(9,5))\n",
    "sns.boxplot(data=data)\n",
    "plt.title('Boxplots of Various Measurements',fontsize=16)\n",
    "plt.show()"
   ]
  },
  {
   "cell_type": "markdown",
   "id": "69ab4aee",
   "metadata": {},
   "source": [
    "#### Age and Fare column contains outliers but we want to find how Age and Ticket fare influenced the survival rate so those ouliers are not dropped"
   ]
  },
  {
   "cell_type": "code",
   "execution_count": 28,
   "id": "9f0a35e7",
   "metadata": {},
   "outputs": [
    {
     "data": {
      "image/png": "[encoded data removed]",
      "text/plain": [
       "<Figure size 432x288 with 1 Axes>"
      ]
     },
     "metadata": {
      "needs_background": "light"
     },
     "output_type": "display_data"
    }
   ],
   "source": [
    "plt.boxplot(data['SibSp'])\n",
    "plt.title('Number of Siblings/Spouses Aboard')\n",
    "plt.show()"
   ]
  },
  {
   "cell_type": "code",
   "execution_count": 29,
   "id": "e3d32c28",
   "metadata": {},
   "outputs": [
    {
     "data": {
      "text/plain": [
       "array([1, 0, 3, 4, 2, 5, 8], dtype=int64)"
      ]
     },
     "execution_count": 29,
     "metadata": {},
     "output_type": "execute_result"
    }
   ],
   "source": [
    "data[\"SibSp\"].unique()"
   ]
  },
  {
   "cell_type": "code",
   "execution_count": 30,
   "id": "11696651",
   "metadata": {},
   "outputs": [
    {
     "data": {
      "image/png": "[encoded data removed]",
      "text/plain": [
       "<Figure size 432x288 with 1 Axes>"
      ]
     },
     "metadata": {
      "needs_background": "light"
     },
     "output_type": "display_data"
    }
   ],
   "source": [
    "plt.boxplot(data['Parch'])\n",
    "plt.title('Number of Parents/Children Aboard')\n",
    "plt.show()"
   ]
  },
  {
   "cell_type": "code",
   "execution_count": 31,
   "id": "97ab619b",
   "metadata": {},
   "outputs": [
    {
     "data": {
      "text/plain": [
       "array([0, 1, 2, 5, 3, 4, 6], dtype=int64)"
      ]
     },
     "execution_count": 31,
     "metadata": {},
     "output_type": "execute_result"
    }
   ],
   "source": [
    "data[\"Parch\"].unique()"
   ]
  },
  {
   "cell_type": "markdown",
   "id": "d429a4ee",
   "metadata": {},
   "source": [
    "#### The 'Sibsp' column and 'Parch' column contains few outliers. The unique values in this are not varying much. so these outliers should not be dropped"
   ]
  },
  {
   "cell_type": "markdown",
   "id": "91e0e6cf",
   "metadata": {},
   "source": [
    "### Checking for Co-relation in the data"
   ]
  },
  {
   "cell_type": "code",
   "execution_count": 32,
   "id": "503bc2e5",
   "metadata": {},
   "outputs": [
    {
     "data": {
      "image/png": "[encoded data removed]",
      "text/plain": [
       "<Figure size 720x360 with 2 Axes>"
      ]
     },
     "metadata": {
      "needs_background": "light"
     },
     "output_type": "display_data"
    }
   ],
   "source": [
    "corrmatrix=data.corr()\n",
    "plt.subplots(figsize=(10,5))\n",
    "sns.heatmap(corrmatrix,annot=True,vmin=-0.55,vmax=1,cmap='Blues')\n",
    "plt.show()"
   ]
  },
  {
   "cell_type": "code",
   "execution_count": 33,
   "id": "adda71cc",
   "metadata": {},
   "outputs": [],
   "source": [
    "#Maximum co-relation is obtained as 0.41 nad minimum value is -0.55. So all columns are releavant in the dataset"
   ]
  },
  {
   "cell_type": "markdown",
   "id": "e54a3643",
   "metadata": {},
   "source": [
    "### Feature Engineering on the dataset"
   ]
  },
  {
   "cell_type": "code",
   "execution_count": 34,
   "id": "8842eaf4",
   "metadata": {},
   "outputs": [],
   "source": [
    "#Siblings/Spouses column and Parents Children column are combined to form Family members column\n",
    "data['Family_mem']=data['SibSp']+data['Parch']"
   ]
  },
  {
   "cell_type": "code",
   "execution_count": 35,
   "id": "4d0bd848",
   "metadata": {},
   "outputs": [
    {
     "data": {
      "text/html": [
       "<div>\n",
       "<style scoped>\n",
       "    .dataframe tbody tr th:only-of-type {\n",
       "        vertical-align: middle;\n",
       "    }\n",
       "\n",
       "    .dataframe tbody tr th {\n",
       "        vertical-align: top;\n",
       "    }\n",
       "\n",
       "    .dataframe thead th {\n",
       "        text-align: right;\n",
       "    }\n",
       "</style>\n",
       "<table border=\"1\" class=\"dataframe\">\n",
       "  <thead>\n",
       "    <tr style=\"text-align: right;\">\n",
       "      <th></th>\n",
       "      <th>Survived</th>\n",
       "      <th>Pclass</th>\n",
       "      <th>Sex</th>\n",
       "      <th>Age</th>\n",
       "      <th>Fare</th>\n",
       "      <th>Embarked</th>\n",
       "      <th>Family_mem</th>\n",
       "    </tr>\n",
       "    <tr>\n",
       "      <th>PassengerId</th>\n",
       "      <th></th>\n",
       "      <th></th>\n",
       "      <th></th>\n",
       "      <th></th>\n",
       "      <th></th>\n",
       "      <th></th>\n",
       "      <th></th>\n",
       "    </tr>\n",
       "  </thead>\n",
       "  <tbody>\n",
       "    <tr>\n",
       "      <th>1</th>\n",
       "      <td>0</td>\n",
       "      <td>3</td>\n",
       "      <td>male</td>\n",
       "      <td>22.0</td>\n",
       "      <td>7.2500</td>\n",
       "      <td>S</td>\n",
       "      <td>1</td>\n",
       "    </tr>\n",
       "    <tr>\n",
       "      <th>2</th>\n",
       "      <td>1</td>\n",
       "      <td>1</td>\n",
       "      <td>female</td>\n",
       "      <td>38.0</td>\n",
       "      <td>71.2833</td>\n",
       "      <td>C</td>\n",
       "      <td>1</td>\n",
       "    </tr>\n",
       "    <tr>\n",
       "      <th>3</th>\n",
       "      <td>1</td>\n",
       "      <td>3</td>\n",
       "      <td>female</td>\n",
       "      <td>26.0</td>\n",
       "      <td>7.9250</td>\n",
       "      <td>S</td>\n",
       "      <td>0</td>\n",
       "    </tr>\n",
       "    <tr>\n",
       "      <th>4</th>\n",
       "      <td>1</td>\n",
       "      <td>1</td>\n",
       "      <td>female</td>\n",
       "      <td>35.0</td>\n",
       "      <td>53.1000</td>\n",
       "      <td>S</td>\n",
       "      <td>1</td>\n",
       "    </tr>\n",
       "    <tr>\n",
       "      <th>5</th>\n",
       "      <td>0</td>\n",
       "      <td>3</td>\n",
       "      <td>male</td>\n",
       "      <td>35.0</td>\n",
       "      <td>8.0500</td>\n",
       "      <td>S</td>\n",
       "      <td>0</td>\n",
       "    </tr>\n",
       "  </tbody>\n",
       "</table>\n",
       "</div>"
      ],
      "text/plain": [
       "             Survived  Pclass     Sex   Age     Fare Embarked  Family_mem\n",
       "PassengerId                                                              \n",
       "1                   0       3    male  22.0   7.2500        S           1\n",
       "2                   1       1  female  38.0  71.2833        C           1\n",
       "3                   1       3  female  26.0   7.9250        S           0\n",
       "4                   1       1  female  35.0  53.1000        S           1\n",
       "5                   0       3    male  35.0   8.0500        S           0"
      ]
     },
     "execution_count": 35,
     "metadata": {},
     "output_type": "execute_result"
    }
   ],
   "source": [
    "data.drop(['SibSp','Parch'],axis=1,inplace=True)\n",
    "data.head()"
   ]
  },
  {
   "cell_type": "markdown",
   "id": "eccfeafa",
   "metadata": {},
   "source": [
    "### There are two categorical columns in the data. They are 'Sex' and 'Embarked'. They are to be Label Encoded"
   ]
  },
  {
   "cell_type": "code",
   "execution_count": 36,
   "id": "148ae2d2",
   "metadata": {},
   "outputs": [
    {
     "data": {
      "text/html": [
       "<div>\n",
       "<style scoped>\n",
       "    .dataframe tbody tr th:only-of-type {\n",
       "        vertical-align: middle;\n",
       "    }\n",
       "\n",
       "    .dataframe tbody tr th {\n",
       "        vertical-align: top;\n",
       "    }\n",
       "\n",
       "    .dataframe thead th {\n",
       "        text-align: right;\n",
       "    }\n",
       "</style>\n",
       "<table border=\"1\" class=\"dataframe\">\n",
       "  <thead>\n",
       "    <tr style=\"text-align: right;\">\n",
       "      <th></th>\n",
       "      <th>Survived</th>\n",
       "      <th>Pclass</th>\n",
       "      <th>Sex</th>\n",
       "      <th>Age</th>\n",
       "      <th>Fare</th>\n",
       "      <th>Embarked</th>\n",
       "      <th>Family_mem</th>\n",
       "    </tr>\n",
       "    <tr>\n",
       "      <th>PassengerId</th>\n",
       "      <th></th>\n",
       "      <th></th>\n",
       "      <th></th>\n",
       "      <th></th>\n",
       "      <th></th>\n",
       "      <th></th>\n",
       "      <th></th>\n",
       "    </tr>\n",
       "  </thead>\n",
       "  <tbody>\n",
       "    <tr>\n",
       "      <th>1</th>\n",
       "      <td>0</td>\n",
       "      <td>3</td>\n",
       "      <td>1</td>\n",
       "      <td>22.0</td>\n",
       "      <td>7.2500</td>\n",
       "      <td>2</td>\n",
       "      <td>1</td>\n",
       "    </tr>\n",
       "    <tr>\n",
       "      <th>2</th>\n",
       "      <td>1</td>\n",
       "      <td>1</td>\n",
       "      <td>0</td>\n",
       "      <td>38.0</td>\n",
       "      <td>71.2833</td>\n",
       "      <td>0</td>\n",
       "      <td>1</td>\n",
       "    </tr>\n",
       "    <tr>\n",
       "      <th>3</th>\n",
       "      <td>1</td>\n",
       "      <td>3</td>\n",
       "      <td>0</td>\n",
       "      <td>26.0</td>\n",
       "      <td>7.9250</td>\n",
       "      <td>2</td>\n",
       "      <td>0</td>\n",
       "    </tr>\n",
       "    <tr>\n",
       "      <th>4</th>\n",
       "      <td>1</td>\n",
       "      <td>1</td>\n",
       "      <td>0</td>\n",
       "      <td>35.0</td>\n",
       "      <td>53.1000</td>\n",
       "      <td>2</td>\n",
       "      <td>1</td>\n",
       "    </tr>\n",
       "    <tr>\n",
       "      <th>5</th>\n",
       "      <td>0</td>\n",
       "      <td>3</td>\n",
       "      <td>1</td>\n",
       "      <td>35.0</td>\n",
       "      <td>8.0500</td>\n",
       "      <td>2</td>\n",
       "      <td>0</td>\n",
       "    </tr>\n",
       "  </tbody>\n",
       "</table>\n",
       "</div>"
      ],
      "text/plain": [
       "             Survived  Pclass  Sex   Age     Fare  Embarked  Family_mem\n",
       "PassengerId                                                            \n",
       "1                   0       3    1  22.0   7.2500         2           1\n",
       "2                   1       1    0  38.0  71.2833         0           1\n",
       "3                   1       3    0  26.0   7.9250         2           0\n",
       "4                   1       1    0  35.0  53.1000         2           1\n",
       "5                   0       3    1  35.0   8.0500         2           0"
      ]
     },
     "execution_count": 36,
     "metadata": {},
     "output_type": "execute_result"
    }
   ],
   "source": [
    "from sklearn.preprocessing import LabelEncoder\n",
    "le=LabelEncoder()\n",
    "data['Sex']=le.fit_transform(data['Sex'])\n",
    "data['Embarked']=le.fit_transform(data['Embarked'])\n",
    "data.head(5)"
   ]
  },
  {
   "cell_type": "markdown",
   "id": "3c42e817",
   "metadata": {},
   "source": [
    "***"
   ]
  },
  {
   "cell_type": "markdown",
   "id": "b82063e6",
   "metadata": {},
   "source": [
    "# 3.MODEL CREATION"
   ]
  },
  {
   "cell_type": "markdown",
   "id": "ab7e018c",
   "metadata": {},
   "source": [
    "### Spliiting the Data into Features and target"
   ]
  },
  {
   "cell_type": "code",
   "execution_count": 37,
   "id": "ad90e6c2",
   "metadata": {},
   "outputs": [],
   "source": [
    "#Survived Column is taken as Target and all other columns as features"
   ]
  },
  {
   "cell_type": "code",
   "execution_count": 38,
   "id": "bd7310a0",
   "metadata": {},
   "outputs": [],
   "source": [
    "X=data.drop('Survived',axis=1)\n",
    "Y=data['Survived']"
   ]
  },
  {
   "cell_type": "markdown",
   "id": "9c7291eb",
   "metadata": {},
   "source": [
    "### Standard scaling the Features "
   ]
  },
  {
   "cell_type": "code",
   "execution_count": 39,
   "id": "28bc2cf7",
   "metadata": {},
   "outputs": [],
   "source": [
    "#The Values in Fare and Age is Varying largely so standard scaling is to be done\n",
    "from sklearn import preprocessing\n",
    "std_scl=preprocessing.StandardScaler()\n",
    "X1=std_scl.fit_transform(X)"
   ]
  },
  {
   "cell_type": "code",
   "execution_count": 40,
   "id": "8fd316f7",
   "metadata": {},
   "outputs": [],
   "source": [
    "X1=pd.DataFrame(X1,columns=X.columns)"
   ]
  },
  {
   "cell_type": "code",
   "execution_count": 41,
   "id": "d2e4d363",
   "metadata": {},
   "outputs": [
    {
     "data": {
      "text/html": [
       "<div>\n",
       "<style scoped>\n",
       "    .dataframe tbody tr th:only-of-type {\n",
       "        vertical-align: middle;\n",
       "    }\n",
       "\n",
       "    .dataframe tbody tr th {\n",
       "        vertical-align: top;\n",
       "    }\n",
       "\n",
       "    .dataframe thead th {\n",
       "        text-align: right;\n",
       "    }\n",
       "</style>\n",
       "<table border=\"1\" class=\"dataframe\">\n",
       "  <thead>\n",
       "    <tr style=\"text-align: right;\">\n",
       "      <th></th>\n",
       "      <th>Pclass</th>\n",
       "      <th>Sex</th>\n",
       "      <th>Age</th>\n",
       "      <th>Fare</th>\n",
       "      <th>Embarked</th>\n",
       "      <th>Family_mem</th>\n",
       "    </tr>\n",
       "  </thead>\n",
       "  <tbody>\n",
       "    <tr>\n",
       "      <th>0</th>\n",
       "      <td>0.827377</td>\n",
       "      <td>0.737695</td>\n",
       "      <td>-0.565736</td>\n",
       "      <td>-0.502445</td>\n",
       "      <td>0.585954</td>\n",
       "      <td>0.059160</td>\n",
       "    </tr>\n",
       "    <tr>\n",
       "      <th>1</th>\n",
       "      <td>-1.566107</td>\n",
       "      <td>-1.355574</td>\n",
       "      <td>0.663861</td>\n",
       "      <td>0.786845</td>\n",
       "      <td>-1.942303</td>\n",
       "      <td>0.059160</td>\n",
       "    </tr>\n",
       "    <tr>\n",
       "      <th>2</th>\n",
       "      <td>0.827377</td>\n",
       "      <td>-1.355574</td>\n",
       "      <td>-0.258337</td>\n",
       "      <td>-0.488854</td>\n",
       "      <td>0.585954</td>\n",
       "      <td>-0.560975</td>\n",
       "    </tr>\n",
       "    <tr>\n",
       "      <th>3</th>\n",
       "      <td>-1.566107</td>\n",
       "      <td>-1.355574</td>\n",
       "      <td>0.433312</td>\n",
       "      <td>0.420730</td>\n",
       "      <td>0.585954</td>\n",
       "      <td>0.059160</td>\n",
       "    </tr>\n",
       "    <tr>\n",
       "      <th>4</th>\n",
       "      <td>0.827377</td>\n",
       "      <td>0.737695</td>\n",
       "      <td>0.433312</td>\n",
       "      <td>-0.486337</td>\n",
       "      <td>0.585954</td>\n",
       "      <td>-0.560975</td>\n",
       "    </tr>\n",
       "  </tbody>\n",
       "</table>\n",
       "</div>"
      ],
      "text/plain": [
       "     Pclass       Sex       Age      Fare  Embarked  Family_mem\n",
       "0  0.827377  0.737695 -0.565736 -0.502445  0.585954    0.059160\n",
       "1 -1.566107 -1.355574  0.663861  0.786845 -1.942303    0.059160\n",
       "2  0.827377 -1.355574 -0.258337 -0.488854  0.585954   -0.560975\n",
       "3 -1.566107 -1.355574  0.433312  0.420730  0.585954    0.059160\n",
       "4  0.827377  0.737695  0.433312 -0.486337  0.585954   -0.560975"
      ]
     },
     "execution_count": 41,
     "metadata": {},
     "output_type": "execute_result"
    }
   ],
   "source": [
    "X1.head()"
   ]
  },
  {
   "cell_type": "code",
   "execution_count": 42,
   "id": "098db7b6",
   "metadata": {},
   "outputs": [],
   "source": [
    "#Dividing the dataset into training and testing set"
   ]
  },
  {
   "cell_type": "code",
   "execution_count": 43,
   "id": "077e55db",
   "metadata": {},
   "outputs": [],
   "source": [
    "from sklearn.model_selection import train_test_split"
   ]
  },
  {
   "cell_type": "code",
   "execution_count": 44,
   "id": "9514dda7",
   "metadata": {},
   "outputs": [],
   "source": [
    "X_train,X_test,Y_train,Y_test=train_test_split(X1,Y,test_size=0.2,random_state=42)"
   ]
  },
  {
   "cell_type": "code",
   "execution_count": 45,
   "id": "5e393246",
   "metadata": {},
   "outputs": [],
   "source": [
    "#Importing model checking Metrics\n",
    "from sklearn.metrics import accuracy_score,confusion_matrix"
   ]
  },
  {
   "cell_type": "markdown",
   "id": "13b50056",
   "metadata": {},
   "source": [
    "## MODEL1- kNN Model"
   ]
  },
  {
   "cell_type": "code",
   "execution_count": 46,
   "id": "c63eaab3",
   "metadata": {},
   "outputs": [],
   "source": [
    "from sklearn.neighbors import KNeighborsClassifier"
   ]
  },
  {
   "cell_type": "code",
   "execution_count": 47,
   "id": "33516650",
   "metadata": {},
   "outputs": [],
   "source": [
    "metric_k=[]\n",
    "neighbors=range(1,17)\n",
    "for k in neighbors:\n",
    "    classifier=KNeighborsClassifier(n_neighbors=k)\n",
    "    model1=classifier.fit(X_train,Y_train)\n",
    "    y_knn=model1.predict(X_test)\n",
    "    acc=accuracy_score(Y_test,y_knn)\n",
    "    metric_k.append(acc)"
   ]
  },
  {
   "cell_type": "code",
   "execution_count": 48,
   "id": "5160c400",
   "metadata": {},
   "outputs": [
    {
     "data": {
      "image/png": "[encoded data removed]",
      "text/plain": [
       "<Figure size 432x288 with 1 Axes>"
      ]
     },
     "metadata": {
      "needs_background": "light"
     },
     "output_type": "display_data"
    }
   ],
   "source": [
    "plt.plot(neighbors,metric_k,'o-')\n",
    "plt.xlabel('K values')\n",
    "plt.ylabel(\"Accuracy_Score\")\n",
    "plt.grid()"
   ]
  },
  {
   "cell_type": "markdown",
   "id": "3cd96464",
   "metadata": {},
   "source": [
    "#### Maximum accuracy is obtained at k=11"
   ]
  },
  {
   "cell_type": "code",
   "execution_count": 49,
   "id": "8bdd326e",
   "metadata": {},
   "outputs": [
    {
     "name": "stdout",
     "output_type": "stream",
     "text": [
      "Accracy score of kNN Model at k=11 is: 0.8212290502793296\n"
     ]
    }
   ],
   "source": [
    "kNN=KNeighborsClassifier(n_neighbors=11)\n",
    "model1=kNN.fit(X_train,Y_train)\n",
    "y_KNN_pred=model1.predict(X_test)\n",
    "acc2=accuracy_score(Y_test,y_KNN_pred)\n",
    "print('Accracy score of kNN Model at k=11 is:',acc2)"
   ]
  },
  {
   "cell_type": "code",
   "execution_count": 50,
   "id": "38b3b889",
   "metadata": {},
   "outputs": [
    {
     "data": {
      "text/plain": [
       "array([[95, 10],\n",
       "       [22, 52]], dtype=int64)"
      ]
     },
     "execution_count": 50,
     "metadata": {},
     "output_type": "execute_result"
    }
   ],
   "source": [
    "confusion_matrix(Y_test,y_KNN_pred)"
   ]
  },
  {
   "cell_type": "markdown",
   "id": "cd166ebd",
   "metadata": {},
   "source": [
    "## Model 2-SVM-Linear Kernel"
   ]
  },
  {
   "cell_type": "code",
   "execution_count": 51,
   "id": "e1f05c0a",
   "metadata": {},
   "outputs": [],
   "source": [
    "from sklearn.svm import SVC"
   ]
  },
  {
   "cell_type": "code",
   "execution_count": 52,
   "id": "bfa9478c",
   "metadata": {},
   "outputs": [],
   "source": [
    "clf_svm1=SVC(kernel=\"linear\")\n",
    "model2=clf_svm1.fit(X_train,Y_train)\n",
    "y_svm1=model2.predict(X_test)"
   ]
  },
  {
   "cell_type": "code",
   "execution_count": 53,
   "id": "9e02f163",
   "metadata": {},
   "outputs": [
    {
     "data": {
      "text/plain": [
       "array([[88, 17],\n",
       "       [22, 52]], dtype=int64)"
      ]
     },
     "execution_count": 53,
     "metadata": {},
     "output_type": "execute_result"
    }
   ],
   "source": [
    "confusion_matrix(Y_test,y_svm1)"
   ]
  },
  {
   "cell_type": "code",
   "execution_count": 54,
   "id": "9c57f6ca",
   "metadata": {},
   "outputs": [
    {
     "name": "stdout",
     "output_type": "stream",
     "text": [
      "Accracy score of SVM-Linear Model is: 0.7821229050279329\n"
     ]
    }
   ],
   "source": [
    "acc3=accuracy_score(Y_test,y_svm1)\n",
    "print('Accracy score of SVM-Linear Model is:',acc3)"
   ]
  },
  {
   "cell_type": "markdown",
   "id": "ab0b68cb",
   "metadata": {},
   "source": [
    "## Model 3- SVM-RBF Kernel"
   ]
  },
  {
   "cell_type": "code",
   "execution_count": 55,
   "id": "18473202",
   "metadata": {},
   "outputs": [],
   "source": [
    "clf_svm2=SVC(kernel='rbf')\n",
    "model3=clf_svm2.fit(X_train,Y_train)\n",
    "y_svm2=model3.predict(X_test)"
   ]
  },
  {
   "cell_type": "code",
   "execution_count": 56,
   "id": "429bf314",
   "metadata": {},
   "outputs": [
    {
     "data": {
      "text/plain": [
       "array([[93, 12],\n",
       "       [21, 53]], dtype=int64)"
      ]
     },
     "execution_count": 56,
     "metadata": {},
     "output_type": "execute_result"
    }
   ],
   "source": [
    "confusion_matrix(Y_test,y_svm2)"
   ]
  },
  {
   "cell_type": "code",
   "execution_count": 57,
   "id": "1051950b",
   "metadata": {},
   "outputs": [
    {
     "name": "stdout",
     "output_type": "stream",
     "text": [
      "Accracy score of SVM-RBF Model is: 0.8156424581005587\n"
     ]
    }
   ],
   "source": [
    "acc4=accuracy_score(Y_test,y_svm2)\n",
    "print('Accracy score of SVM-RBF Model is:',acc4)"
   ]
  },
  {
   "cell_type": "markdown",
   "id": "883cc8a3",
   "metadata": {},
   "source": [
    "***"
   ]
  },
  {
   "cell_type": "markdown",
   "id": "dd1d3a85",
   "metadata": {},
   "source": [
    "# 4.Cross Validation Techniques"
   ]
  },
  {
   "cell_type": "markdown",
   "id": "a8eb1396",
   "metadata": {},
   "source": [
    "## KFold Cross Validation"
   ]
  },
  {
   "cell_type": "code",
   "execution_count": 58,
   "id": "be92a4dc",
   "metadata": {},
   "outputs": [],
   "source": [
    "from sklearn.model_selection import KFold"
   ]
  },
  {
   "cell_type": "code",
   "execution_count": 59,
   "id": "4f4895f8",
   "metadata": {},
   "outputs": [],
   "source": [
    "X_train,X_test,Y_train,Y_test=train_test_split(X1,Y,test_size=0.2,random_state=42)"
   ]
  },
  {
   "cell_type": "code",
   "execution_count": 60,
   "id": "8402af84",
   "metadata": {},
   "outputs": [],
   "source": [
    "kfoldvalidator=KFold(10)"
   ]
  },
  {
   "cell_type": "code",
   "execution_count": 61,
   "id": "93af5789",
   "metadata": {},
   "outputs": [],
   "source": [
    "from sklearn.model_selection import cross_val_score"
   ]
  },
  {
   "cell_type": "markdown",
   "id": "3bf6e829",
   "metadata": {},
   "source": [
    "### Calculating Cross validation scores of kNN Model"
   ]
  },
  {
   "cell_type": "code",
   "execution_count": 62,
   "id": "7cb07e2b",
   "metadata": {},
   "outputs": [
    {
     "data": {
      "text/plain": [
       "array([0.75555556, 0.83146067, 0.78651685, 0.79775281, 0.78651685,\n",
       "       0.80898876, 0.79775281, 0.78651685, 0.84269663, 0.76404494])"
      ]
     },
     "execution_count": 62,
     "metadata": {},
     "output_type": "execute_result"
    }
   ],
   "source": [
    "cv_result=cross_val_score(model1,X1,Y,cv=kfoldvalidator)\n",
    "cv_result"
   ]
  },
  {
   "cell_type": "code",
   "execution_count": 63,
   "id": "f1dc7095",
   "metadata": {},
   "outputs": [
    {
     "name": "stdout",
     "output_type": "stream",
     "text": [
      "Average KFold Cross Validation score of kNN Model is: 0.7957802746566792\n"
     ]
    }
   ],
   "source": [
    "cv1=np.mean(cv_result)\n",
    "print('Average KFold Cross Validation score of kNN Model is:',cv1)"
   ]
  },
  {
   "cell_type": "markdown",
   "id": "9e49ceee",
   "metadata": {},
   "source": [
    "### Calculating Cross validation scores of SVM-Linear Model"
   ]
  },
  {
   "cell_type": "code",
   "execution_count": 64,
   "id": "efc2b94b",
   "metadata": {},
   "outputs": [
    {
     "data": {
      "text/plain": [
       "array([0.81111111, 0.82022472, 0.75280899, 0.84269663, 0.76404494,\n",
       "       0.79775281, 0.74157303, 0.73033708, 0.84269663, 0.76404494])"
      ]
     },
     "execution_count": 64,
     "metadata": {},
     "output_type": "execute_result"
    }
   ],
   "source": [
    "cv_result2=cross_val_score(model2,X1,Y,cv=kfoldvalidator)\n",
    "cv_result2"
   ]
  },
  {
   "cell_type": "code",
   "execution_count": 65,
   "id": "27a106c6",
   "metadata": {},
   "outputs": [
    {
     "name": "stdout",
     "output_type": "stream",
     "text": [
      "Average KFold Cross Validation score of SVM-Linear Model is: 0.786729088639201\n"
     ]
    }
   ],
   "source": [
    "cv2=np.mean(cv_result2)\n",
    "print('Average KFold Cross Validation score of SVM-Linear Model is:',cv2)"
   ]
  },
  {
   "cell_type": "markdown",
   "id": "d0bff271",
   "metadata": {},
   "source": [
    "### Calculating Cross validation scores of SVM-RBF Model"
   ]
  },
  {
   "cell_type": "code",
   "execution_count": 66,
   "id": "b2cdcdbe",
   "metadata": {},
   "outputs": [
    {
     "data": {
      "text/plain": [
       "array([0.81111111, 0.87640449, 0.80898876, 0.85393258, 0.82022472,\n",
       "       0.79775281, 0.79775281, 0.7752809 , 0.91011236, 0.85393258])"
      ]
     },
     "execution_count": 66,
     "metadata": {},
     "output_type": "execute_result"
    }
   ],
   "source": [
    "cv_result3=cross_val_score(model3,X1,Y,cv=kfoldvalidator)\n",
    "cv_result3"
   ]
  },
  {
   "cell_type": "code",
   "execution_count": 67,
   "id": "8c2b3c1b",
   "metadata": {},
   "outputs": [
    {
     "name": "stdout",
     "output_type": "stream",
     "text": [
      "Average KFold Cross Validation score of SVM-RBF Model is: 0.8305493133583021\n"
     ]
    }
   ],
   "source": [
    "cv3=np.mean(cv_result3)\n",
    "print('Average KFold Cross Validation score of SVM-RBF Model is:',cv3)"
   ]
  },
  {
   "cell_type": "markdown",
   "id": "f7c048d9",
   "metadata": {},
   "source": [
    "## Stratified K-fold cross validation"
   ]
  },
  {
   "cell_type": "code",
   "execution_count": 68,
   "id": "8e564c38",
   "metadata": {},
   "outputs": [],
   "source": [
    "from sklearn.model_selection import StratifiedKFold "
   ]
  },
  {
   "cell_type": "code",
   "execution_count": 69,
   "id": "b2ca6462",
   "metadata": {},
   "outputs": [],
   "source": [
    "Stratifiedvalidator=StratifiedKFold(n_splits=10)"
   ]
  },
  {
   "cell_type": "markdown",
   "id": "c34c3eaa",
   "metadata": {},
   "source": [
    "### Calculating Stratified K Fold Cross validation score of kNN Model"
   ]
  },
  {
   "cell_type": "code",
   "execution_count": 70,
   "id": "8cbd329b",
   "metadata": {},
   "outputs": [
    {
     "data": {
      "text/plain": [
       "array([0.76666667, 0.82022472, 0.75280899, 0.82022472, 0.80898876,\n",
       "       0.79775281, 0.82022472, 0.79775281, 0.82022472, 0.7752809 ])"
      ]
     },
     "execution_count": 70,
     "metadata": {},
     "output_type": "execute_result"
    }
   ],
   "source": [
    "scv_result1=cross_val_score(model1,X1,Y,cv=Stratifiedvalidator)\n",
    "scv_result1"
   ]
  },
  {
   "cell_type": "code",
   "execution_count": 71,
   "id": "5f2015de",
   "metadata": {},
   "outputs": [
    {
     "name": "stdout",
     "output_type": "stream",
     "text": [
      "Average Stratified K Fold Cross validation score of kNN Model is: 0.7980149812734082\n"
     ]
    }
   ],
   "source": [
    "scv1=np.mean(scv_result1)\n",
    "print(\"Average Stratified K Fold Cross validation score of kNN Model is:\",scv1)"
   ]
  },
  {
   "cell_type": "markdown",
   "id": "16b01033",
   "metadata": {},
   "source": [
    "### Calculating Stratified K Fold Cross validation score of SVM-Linear Model"
   ]
  },
  {
   "cell_type": "code",
   "execution_count": 72,
   "id": "a450e205",
   "metadata": {},
   "outputs": [
    {
     "data": {
      "text/plain": [
       "array([0.81111111, 0.79775281, 0.76404494, 0.84269663, 0.79775281,\n",
       "       0.7752809 , 0.76404494, 0.74157303, 0.80898876, 0.76404494])"
      ]
     },
     "execution_count": 72,
     "metadata": {},
     "output_type": "execute_result"
    }
   ],
   "source": [
    "scv_result2=cross_val_score(model2,X1,Y,cv=Stratifiedvalidator)\n",
    "scv_result2"
   ]
  },
  {
   "cell_type": "code",
   "execution_count": 73,
   "id": "6a49e698",
   "metadata": {},
   "outputs": [
    {
     "name": "stdout",
     "output_type": "stream",
     "text": [
      "Average Stratified K Fold Cross validation score of SVM-LInear Model is: 0.786729088639201\n"
     ]
    }
   ],
   "source": [
    "scv2=np.mean(scv_result2)\n",
    "print(\"Average Stratified K Fold Cross validation score of SVM-LInear Model is:\",scv2)"
   ]
  },
  {
   "cell_type": "markdown",
   "id": "acc024a4",
   "metadata": {},
   "source": [
    "### Calculating Stratified K Fold Cross validation score of SVM-RBF Model"
   ]
  },
  {
   "cell_type": "code",
   "execution_count": 74,
   "id": "bd407454",
   "metadata": {},
   "outputs": [
    {
     "data": {
      "text/plain": [
       "array([0.81111111, 0.80898876, 0.76404494, 0.87640449, 0.84269663,\n",
       "       0.78651685, 0.82022472, 0.78651685, 0.88764045, 0.83146067])"
      ]
     },
     "execution_count": 74,
     "metadata": {},
     "output_type": "execute_result"
    }
   ],
   "source": [
    "scv_result3=cross_val_score(model3,X1,Y,cv=Stratifiedvalidator)\n",
    "scv_result3"
   ]
  },
  {
   "cell_type": "code",
   "execution_count": 75,
   "id": "2acfa250",
   "metadata": {},
   "outputs": [
    {
     "name": "stdout",
     "output_type": "stream",
     "text": [
      "Average Stratified K Fold Cross validation score of SVM-RBF Model is: 0.8215605493133584\n"
     ]
    }
   ],
   "source": [
    "scv3=np.mean(scv_result3)\n",
    "print(\"Average Stratified K Fold Cross validation score of SVM-RBF Model is:\",scv3)"
   ]
  },
  {
   "cell_type": "markdown",
   "id": "a77fe19a",
   "metadata": {},
   "source": [
    "***"
   ]
  },
  {
   "cell_type": "markdown",
   "id": "39efb12d",
   "metadata": {},
   "source": [
    "## Creating a Dataframe with all the Accuracy score for comparison"
   ]
  },
  {
   "cell_type": "code",
   "execution_count": 76,
   "id": "559f6b05",
   "metadata": {},
   "outputs": [
    {
     "data": {
      "text/html": [
       "<div>\n",
       "<style scoped>\n",
       "    .dataframe tbody tr th:only-of-type {\n",
       "        vertical-align: middle;\n",
       "    }\n",
       "\n",
       "    .dataframe tbody tr th {\n",
       "        vertical-align: top;\n",
       "    }\n",
       "\n",
       "    .dataframe thead th {\n",
       "        text-align: right;\n",
       "    }\n",
       "</style>\n",
       "<table border=\"1\" class=\"dataframe\">\n",
       "  <thead>\n",
       "    <tr style=\"text-align: right;\">\n",
       "      <th></th>\n",
       "      <th>Accuracy score</th>\n",
       "      <th>KFold CV Score</th>\n",
       "      <th>Stratified-KFold CV Score</th>\n",
       "    </tr>\n",
       "    <tr>\n",
       "      <th>Model Name</th>\n",
       "      <th></th>\n",
       "      <th></th>\n",
       "      <th></th>\n",
       "    </tr>\n",
       "  </thead>\n",
       "  <tbody>\n",
       "    <tr>\n",
       "      <th>kNN</th>\n",
       "      <td>0.821229</td>\n",
       "      <td>0.795780</td>\n",
       "      <td>0.798015</td>\n",
       "    </tr>\n",
       "    <tr>\n",
       "      <th>SVM-Linear</th>\n",
       "      <td>0.782123</td>\n",
       "      <td>0.786729</td>\n",
       "      <td>0.786729</td>\n",
       "    </tr>\n",
       "    <tr>\n",
       "      <th>SVM-RBF</th>\n",
       "      <td>0.815642</td>\n",
       "      <td>0.830549</td>\n",
       "      <td>0.821561</td>\n",
       "    </tr>\n",
       "  </tbody>\n",
       "</table>\n",
       "</div>"
      ],
      "text/plain": [
       "            Accuracy score  KFold CV Score  Stratified-KFold CV Score\n",
       "Model Name                                                           \n",
       "kNN               0.821229        0.795780                   0.798015\n",
       "SVM-Linear        0.782123        0.786729                   0.786729\n",
       "SVM-RBF           0.815642        0.830549                   0.821561"
      ]
     },
     "execution_count": 76,
     "metadata": {},
     "output_type": "execute_result"
    }
   ],
   "source": [
    "score={'Model Name':['kNN','SVM-Linear','SVM-RBF',],'Accuracy score':[acc2,acc3,acc4],'KFold CV Score':[cv1,cv2,cv3],'Stratified-KFold CV Score':[scv1,scv2,scv3]}\n",
    "df=pd.DataFrame(score)\n",
    "df=df.set_index('Model Name')\n",
    "df"
   ]
  },
  {
   "cell_type": "markdown",
   "id": "78ace29f",
   "metadata": {},
   "source": [
    "### Maximum accuracy score is obtained for kNN Model at k=11 as 0.821. On cross validation the Average CV scores of kNN Model is reduced.In SVM-linear model scores are almost same after cross validation. The CV scores of SVM-RBF model is increased to 0.83  and 0.82 after Cross validation.SVM-RBF model works slightly better after cross validation"
   ]
  },
  {
   "cell_type": "markdown",
   "id": "c7235314",
   "metadata": {},
   "source": [
    "***\n",
    "***"
   ]
  }
 ],
 "metadata": {
  "kernelspec": {
   "display_name": "Python 3 (ipykernel)",
   "language": "python",
   "name": "python3"
  },
  "language_info": {
   "codemirror_mode": {
    "name": "ipython",
    "version": 3
   },
   "file_extension": ".py",
   "mimetype": "text/x-python",
   "name": "python",
   "nbconvert_exporter": "python",
   "pygments_lexer": "ipython3",
   "version": "3.9.12"
  }
 },
 "nbformat": 4,
 "nbformat_minor": 5
}
